{
 "cells": [
  {
   "cell_type": "code",
   "execution_count": 1,
   "id": "088d6640",
   "metadata": {},
   "outputs": [
    {
     "name": "stdout",
     "output_type": "stream",
     "text": [
      "Requirement already satisfied: psycopg2 in e:\\downloads\\anaconda\\lib\\site-packages (2.9.9)\n"
     ]
    }
   ],
   "source": [
    "!pip install psycopg2"
   ]
  },
  {
   "cell_type": "code",
   "execution_count": 2,
   "id": "0d2841e5",
   "metadata": {},
   "outputs": [],
   "source": [
    "import psycopg2\n",
    "import pandas as pd"
   ]
  },
  {
   "cell_type": "code",
   "execution_count": 3,
   "id": "53fd2417",
   "metadata": {},
   "outputs": [],
   "source": [
    "def create_database():\n",
    "    conn = psycopg2.connect(\"host=localhost dbname=postgres user=postgres password=thuan84826\")\n",
    "    conn.set_session(autocommit=True)\n",
    "    cur = conn.cursor()\n",
    "    \n",
    "    cur.execute(\"DROP DATABASE IF EXISTS transactions\")\n",
    "    cur.execute(\"CREATE DATABASE transactions\")\n",
    "    \n",
    "    conn.close()\n",
    "        \n",
    "    conn = psycopg2.connect(\"host=localhost dbname=transactions user=postgres password=thuan84826\")\n",
    "    cur = conn.cursor()\n",
    "    return cur, conn\n"
   ]
  },
  {
   "cell_type": "code",
   "execution_count": 4,
   "id": "a52a1498",
   "metadata": {},
   "outputs": [],
   "source": [
    "def drop_tables(cur, conn):\n",
    "    for query in drop_table_queries:\n",
    "        cur.execute(query)\n",
    "        conn.commit()"
   ]
  },
  {
   "cell_type": "code",
   "execution_count": 5,
   "id": "f1772b3f",
   "metadata": {},
   "outputs": [],
   "source": [
    "def create_tables(cur, conn):\n",
    "    for query in create_table_queries:\n",
    "        cur.execute(query)\n",
    "        conn.commit()"
   ]
  },
  {
   "cell_type": "code",
   "execution_count": 6,
   "id": "b560a265",
   "metadata": {},
   "outputs": [],
   "source": [
    "df = pd.read_csv('Retail_Transactions_Dataset.csv')"
   ]
  },
  {
   "cell_type": "code",
   "execution_count": 7,
   "id": "ba3b8666",
   "metadata": {},
   "outputs": [
    {
     "data": {
      "text/html": [
       "<div>\n",
       "<style scoped>\n",
       "    .dataframe tbody tr th:only-of-type {\n",
       "        vertical-align: middle;\n",
       "    }\n",
       "\n",
       "    .dataframe tbody tr th {\n",
       "        vertical-align: top;\n",
       "    }\n",
       "\n",
       "    .dataframe thead th {\n",
       "        text-align: right;\n",
       "    }\n",
       "</style>\n",
       "<table border=\"1\" class=\"dataframe\">\n",
       "  <thead>\n",
       "    <tr style=\"text-align: right;\">\n",
       "      <th></th>\n",
       "      <th>Transaction_ID</th>\n",
       "      <th>Date</th>\n",
       "      <th>Customer_Name</th>\n",
       "      <th>Product</th>\n",
       "      <th>Total_Items</th>\n",
       "      <th>Total_Cost</th>\n",
       "      <th>Payment_Method</th>\n",
       "      <th>City</th>\n",
       "      <th>Store_Type</th>\n",
       "      <th>Discount_Applied</th>\n",
       "      <th>Customer_Category</th>\n",
       "      <th>Season</th>\n",
       "      <th>Promotion</th>\n",
       "    </tr>\n",
       "  </thead>\n",
       "  <tbody>\n",
       "    <tr>\n",
       "      <th>0</th>\n",
       "      <td>1000000000</td>\n",
       "      <td>12/21/2020 19:42</td>\n",
       "      <td>Cheyenne Newman</td>\n",
       "      <td>['Hair Gel']</td>\n",
       "      <td>6</td>\n",
       "      <td>12.77</td>\n",
       "      <td>Debit Card</td>\n",
       "      <td>New York</td>\n",
       "      <td>Convenience Store</td>\n",
       "      <td>True</td>\n",
       "      <td>Student</td>\n",
       "      <td>Winter</td>\n",
       "      <td>NaN</td>\n",
       "    </tr>\n",
       "    <tr>\n",
       "      <th>1</th>\n",
       "      <td>1000000001</td>\n",
       "      <td>7/6/2020 7:45</td>\n",
       "      <td>Emily Fitzgerald</td>\n",
       "      <td>['Tuna', 'Bread', 'Tissues', 'Trash Bags']</td>\n",
       "      <td>5</td>\n",
       "      <td>13.88</td>\n",
       "      <td>Debit Card</td>\n",
       "      <td>Houston</td>\n",
       "      <td>Supermarket</td>\n",
       "      <td>False</td>\n",
       "      <td>Professional</td>\n",
       "      <td>Fall</td>\n",
       "      <td>BOGO (Buy One Get One)</td>\n",
       "    </tr>\n",
       "    <tr>\n",
       "      <th>2</th>\n",
       "      <td>1000000002</td>\n",
       "      <td>10/2/2021 6:28</td>\n",
       "      <td>Michael Webb</td>\n",
       "      <td>['Jam', 'Soap', 'Ketchup']</td>\n",
       "      <td>7</td>\n",
       "      <td>47.02</td>\n",
       "      <td>Debit Card</td>\n",
       "      <td>Miami</td>\n",
       "      <td>Convenience Store</td>\n",
       "      <td>False</td>\n",
       "      <td>Young Adult</td>\n",
       "      <td>Winter</td>\n",
       "      <td>NaN</td>\n",
       "    </tr>\n",
       "    <tr>\n",
       "      <th>3</th>\n",
       "      <td>1000000003</td>\n",
       "      <td>1/10/2022 5:39</td>\n",
       "      <td>Kimberly Lin</td>\n",
       "      <td>['BBQ Sauce']</td>\n",
       "      <td>9</td>\n",
       "      <td>83.86</td>\n",
       "      <td>Mobile Payment</td>\n",
       "      <td>Seattle</td>\n",
       "      <td>Warehouse Club</td>\n",
       "      <td>True</td>\n",
       "      <td>Senior Citizen</td>\n",
       "      <td>Summer</td>\n",
       "      <td>Discount on Selected Items</td>\n",
       "    </tr>\n",
       "    <tr>\n",
       "      <th>4</th>\n",
       "      <td>1000000004</td>\n",
       "      <td>10/13/2021 7:28</td>\n",
       "      <td>Cathy Hernandez</td>\n",
       "      <td>['Hand Sanitizer', 'Bread', 'Extension Cords',...</td>\n",
       "      <td>4</td>\n",
       "      <td>30.55</td>\n",
       "      <td>Debit Card</td>\n",
       "      <td>Houston</td>\n",
       "      <td>Warehouse Club</td>\n",
       "      <td>False</td>\n",
       "      <td>Senior Citizen</td>\n",
       "      <td>Spring</td>\n",
       "      <td>NaN</td>\n",
       "    </tr>\n",
       "  </tbody>\n",
       "</table>\n",
       "</div>"
      ],
      "text/plain": [
       "   Transaction_ID              Date     Customer_Name  \\\n",
       "0      1000000000  12/21/2020 19:42   Cheyenne Newman   \n",
       "1      1000000001     7/6/2020 7:45  Emily Fitzgerald   \n",
       "2      1000000002    10/2/2021 6:28      Michael Webb   \n",
       "3      1000000003    1/10/2022 5:39      Kimberly Lin   \n",
       "4      1000000004   10/13/2021 7:28   Cathy Hernandez   \n",
       "\n",
       "                                             Product  Total_Items  Total_Cost  \\\n",
       "0                                       ['Hair Gel']            6       12.77   \n",
       "1         ['Tuna', 'Bread', 'Tissues', 'Trash Bags']            5       13.88   \n",
       "2                         ['Jam', 'Soap', 'Ketchup']            7       47.02   \n",
       "3                                      ['BBQ Sauce']            9       83.86   \n",
       "4  ['Hand Sanitizer', 'Bread', 'Extension Cords',...            4       30.55   \n",
       "\n",
       "   Payment_Method      City         Store_Type  Discount_Applied  \\\n",
       "0      Debit Card  New York  Convenience Store              True   \n",
       "1      Debit Card   Houston        Supermarket             False   \n",
       "2      Debit Card     Miami  Convenience Store             False   \n",
       "3  Mobile Payment   Seattle     Warehouse Club              True   \n",
       "4      Debit Card   Houston     Warehouse Club             False   \n",
       "\n",
       "  Customer_Category  Season                   Promotion  \n",
       "0           Student  Winter                         NaN  \n",
       "1      Professional    Fall      BOGO (Buy One Get One)  \n",
       "2       Young Adult  Winter                         NaN  \n",
       "3    Senior Citizen  Summer  Discount on Selected Items  \n",
       "4    Senior Citizen  Spring                         NaN  "
      ]
     },
     "execution_count": 7,
     "metadata": {},
     "output_type": "execute_result"
    }
   ],
   "source": [
    "df.head(5)"
   ]
  },
  {
   "cell_type": "code",
   "execution_count": 8,
   "id": "6f5f7577",
   "metadata": {},
   "outputs": [],
   "source": [
    "cur, conn = create_database() "
   ]
  },
  {
   "cell_type": "code",
   "execution_count": 9,
   "id": "10848d62",
   "metadata": {},
   "outputs": [],
   "source": [
    "df['Date'] = pd.to_datetime(df['Date'])\n",
    "df = df.drop_duplicates().reset_index(drop=True)\n",
    "df['trans_id'] = df.index\n",
    "# df.head(5)"
   ]
  },
  {
   "cell_type": "code",
   "execution_count": 10,
   "id": "52760e2b",
   "metadata": {},
   "outputs": [],
   "source": [
    "date_dim = df[['Date', 'Season']].reset_index(drop=True)\n",
    "date_dim['date'] = date_dim['Date']#.reset_index(drop=True)\n",
    "date_dim['season'] = date_dim['Season']\n",
    "date_dim['date_id'] = date_dim.index\n",
    "\n",
    "date_dim = date_dim[['date_id', 'date', 'season']]\n",
    "\n",
    "# date_dim.head()"
   ]
  },
  {
   "cell_type": "code",
   "execution_count": 11,
   "id": "e377dd36",
   "metadata": {},
   "outputs": [],
   "source": [
    "customer_dim = df[['Customer_Name','Customer_Category']].reset_index(drop=True)\n",
    "customer_dim['Customer_Name'] = customer_dim['Customer_Name']\n",
    "customer_dim['Customer_Category'] = customer_dim['Customer_Category']\n",
    "customer_dim['Customer_Id'] = customer_dim.index\n",
    "customer_dim = customer_dim[['Customer_Id','Customer_Name','Customer_Category']]"
   ]
  },
  {
   "cell_type": "code",
   "execution_count": 12,
   "id": "b11e7109",
   "metadata": {},
   "outputs": [],
   "source": [
    "type_transaction_dim = df[['Discount_Applied', 'Promotion']].reset_index(drop=True)\n",
    "type_transaction_dim['Discount_Applied'] = type_transaction_dim['Discount_Applied']\n",
    "type_transaction_dim['Promotion'] = type_transaction_dim['Promotion']\n",
    "type_transaction_dim['Type_Id'] = type_transaction_dim.index\n",
    "\n",
    "type_transaction_dim = type_transaction_dim[['Type_Id', 'Discount_Applied','Promotion']]"
   ]
  },
  {
   "cell_type": "code",
   "execution_count": 13,
   "id": "f5bd9333",
   "metadata": {},
   "outputs": [],
   "source": [
    "payment_dim = df[['Payment_Method']].reset_index(drop=True)\n",
    "payment_dim['Pay_Type_Id'] = payment_dim.index\n",
    "payment_dim = payment_dim[['Pay_Type_Id','Payment_Method']]"
   ]
  },
  {
   "cell_type": "code",
   "execution_count": 14,
   "id": "cc7f492e",
   "metadata": {},
   "outputs": [],
   "source": [
    "location_dim = df[['City']].reset_index(drop=True)\n",
    "\n",
    "location_dim['locate_id'] = location_dim.index\n",
    "location_dim = location_dim[['locate_id','City']]"
   ]
  },
  {
   "cell_type": "code",
   "execution_count": 15,
   "id": "e75ea1ac",
   "metadata": {},
   "outputs": [],
   "source": [
    "store_dim = df[['Store_Type']].reset_index(drop=True)\n",
    "\n",
    "store_dim['store_id'] = store_dim.index\n",
    "store_dim = store_dim[['store_id','Store_Type']]"
   ]
  },
  {
   "cell_type": "code",
   "execution_count": 58,
   "id": "7d1bce92",
   "metadata": {},
   "outputs": [],
   "source": [
    "date_dim_table_create = (\"\"\"CREATE TABLE IF NOT EXISTS date_dim_tb(\n",
    "date_id int8 PRIMARY KEY,\n",
    "date_time timestamp,\n",
    "season VARCHAR\n",
    "\n",
    ")\n",
    "\"\"\")  "
   ]
  },
  {
   "cell_type": "code",
   "execution_count": 57,
   "id": "fb66c733",
   "metadata": {},
   "outputs": [],
   "source": [
    "cur.execute(\"\"\"DROP TABLE date_dim_tb\n",
    "\"\"\")\n",
    "conn.commit()"
   ]
  },
  {
   "cell_type": "code",
   "execution_count": null,
   "id": "f247ffd9",
   "metadata": {},
   "outputs": [],
   "source": []
  },
  {
   "cell_type": "code",
   "execution_count": null,
   "id": "edf3ca17",
   "metadata": {},
   "outputs": [],
   "source": []
  },
  {
   "cell_type": "code",
   "execution_count": 59,
   "id": "1eb58a49",
   "metadata": {},
   "outputs": [],
   "source": [
    "cur.execute(date_dim_table_create)\n",
    "conn.commit()"
   ]
  },
  {
   "cell_type": "code",
   "execution_count": 40,
   "id": "0f27278e",
   "metadata": {},
   "outputs": [],
   "source": [
    "customer_dim_table_create = (\"\"\"CREATE TABLE IF NOT EXISTS customer_dim_tb(\n",
    "customer_id int8 PRIMARY KEY,\n",
    "customer_name VARCHAR,\n",
    "customer_category VARCHAR\n",
    "\n",
    ")\n",
    "\"\"\")  "
   ]
  },
  {
   "cell_type": "code",
   "execution_count": 41,
   "id": "2f7aedfc",
   "metadata": {},
   "outputs": [],
   "source": [
    "cur.execute(customer_dim_table_create)\n",
    "conn.commit()"
   ]
  },
  {
   "cell_type": "code",
   "execution_count": 18,
   "id": "6a0e0519",
   "metadata": {},
   "outputs": [],
   "source": [
    "type_transaction_dim_table_create = (\"\"\"CREATE TABLE IF NOT EXISTS type_transaction_dim_tb(\n",
    "type_id int8 PRIMARY KEY,\n",
    "discount bool,\n",
    "promotion VARCHAR\n",
    "\n",
    ")\n",
    "\"\"\")  "
   ]
  },
  {
   "cell_type": "code",
   "execution_count": 19,
   "id": "f273d08a",
   "metadata": {},
   "outputs": [],
   "source": [
    "cur.execute(type_transaction_dim_table_create)\n",
    "conn.commit()"
   ]
  },
  {
   "cell_type": "code",
   "execution_count": 20,
   "id": "3300eeed",
   "metadata": {},
   "outputs": [],
   "source": [
    "payment_dim_table_create = (\"\"\"CREATE TABLE IF NOT EXISTS payment_dim_tb(\n",
    "pay_type_id int8 PRIMARY KEY,\n",
    "payment_method VARCHAR\n",
    "\n",
    ")\n",
    "\"\"\")  "
   ]
  },
  {
   "cell_type": "code",
   "execution_count": 21,
   "id": "fd22280a",
   "metadata": {},
   "outputs": [],
   "source": [
    "cur.execute(payment_dim_table_create)\n",
    "conn.commit()"
   ]
  },
  {
   "cell_type": "code",
   "execution_count": 22,
   "id": "728ed073",
   "metadata": {},
   "outputs": [],
   "source": [
    "location_dim_table_create = (\"\"\"CREATE TABLE IF NOT EXISTS location_dim_tb(\n",
    "location_id int8 PRIMARY KEY,\n",
    "city VARCHAR\n",
    ")\n",
    "\"\"\")  "
   ]
  },
  {
   "cell_type": "code",
   "execution_count": 23,
   "id": "57e014e7",
   "metadata": {},
   "outputs": [],
   "source": [
    "cur.execute(location_dim_table_create)\n",
    "conn.commit()"
   ]
  },
  {
   "cell_type": "code",
   "execution_count": 24,
   "id": "2db799b4",
   "metadata": {},
   "outputs": [],
   "source": [
    "store_dim_table_create = (\"\"\"CREATE TABLE IF NOT EXISTS store_dim_tb(\n",
    "store_id int8 PRIMARY KEY,\n",
    "store_type_name VARCHAR\n",
    "\n",
    ")\n",
    "\"\"\")  "
   ]
  },
  {
   "cell_type": "code",
   "execution_count": 25,
   "id": "8b3f74e1",
   "metadata": {},
   "outputs": [],
   "source": [
    "cur.execute(store_dim_table_create)\n",
    "conn.commit()"
   ]
  },
  {
   "cell_type": "code",
   "execution_count": 26,
   "id": "9dde2629",
   "metadata": {},
   "outputs": [],
   "source": [
    "date_dim_table_insert = (\"\"\"INSERT INTO date_dim_tb(\n",
    "date_id,\n",
    "date_time,\n",
    "season)\n",
    "VALUES (%s,%s,%s)\n",
    "\"\"\")\n",
    "\n",
    "# for i, row in date_dim.iterrows():\n",
    "#     cur.execute(date_dim_table_insert, list(row))"
   ]
  },
  {
   "cell_type": "code",
   "execution_count": 60,
   "id": "b960a140",
   "metadata": {},
   "outputs": [],
   "source": [
    "for i, row in date_dim.iterrows():\n",
    "#     print(list(row))\n",
    "    cur.execute(date_dim_table_insert, list(row))"
   ]
  },
  {
   "cell_type": "code",
   "execution_count": 62,
   "id": "1781d6f6",
   "metadata": {},
   "outputs": [],
   "source": [
    "customer_dim_table_insert = (\"\"\"INSERT INTO customer_dim_tb(\n",
    "customer_id,\n",
    "customer_name,\n",
    "customer_category)\n",
    "VALUES (%s,%s,%s)\n",
    "\"\"\")\n",
    "\n",
    "for i, row in customer_dim.iterrows():\n",
    "    cur.execute(customer_dim_table_insert, list(row))"
   ]
  },
  {
   "cell_type": "code",
   "execution_count": 64,
   "id": "ddab31e4",
   "metadata": {},
   "outputs": [],
   "source": [
    "type_transaction_dim_table_insert = (\"\"\"INSERT INTO type_transaction_dim_tb(\n",
    "type_id,\n",
    "discount,\n",
    "promotion)\n",
    "VALUES (%s,%s,%s)\n",
    "\"\"\")\n",
    "\n",
    "for i, row in type_transaction_dim.iterrows():\n",
    "    cur.execute(type_transaction_dim_table_insert, list(row))"
   ]
  },
  {
   "cell_type": "code",
   "execution_count": 66,
   "id": "d6655364",
   "metadata": {},
   "outputs": [],
   "source": [
    "payment_dim_table_insert = (\"\"\"INSERT INTO payment_dim_tb(\n",
    "pay_type_id,\n",
    "payment_method)\n",
    "VALUES (%s,%s)\n",
    "\"\"\")\n",
    "\n",
    "for i, row in payment_dim.iterrows():\n",
    "    cur.execute(payment_dim_table_insert, list(row))"
   ]
  },
  {
   "cell_type": "code",
   "execution_count": 71,
   "id": "f3886309",
   "metadata": {},
   "outputs": [],
   "source": [
    "location_dim_table_insert = (\"\"\"INSERT INTO location_dim_tb(\n",
    "location_id,\n",
    "city)\n",
    "VALUES (%s,%s)\n",
    "\"\"\")\n",
    "\n",
    "for i, row in location_dim.iterrows():\n",
    "    cur.execute(location_dim_table_insert, list(row))"
   ]
  },
  {
   "cell_type": "code",
   "execution_count": 73,
   "id": "8c990586",
   "metadata": {},
   "outputs": [],
   "source": [
    "store_dim_table_insert = (\"\"\"INSERT INTO store_dim_tb(\n",
    "store_id,\n",
    "store_type_name)\n",
    "VALUES (%s,%s)\n",
    "\"\"\")\n",
    "\n",
    "for i, row in store_dim.iterrows():\n",
    "    cur.execute(store_dim_table_insert, list(row))"
   ]
  },
  {
   "cell_type": "code",
   "execution_count": null,
   "id": "9ce6236a",
   "metadata": {},
   "outputs": [],
   "source": []
  },
  {
   "cell_type": "code",
   "execution_count": 74,
   "id": "97955c12",
   "metadata": {},
   "outputs": [],
   "source": [
    "conn.commit()"
   ]
  },
  {
   "cell_type": "code",
   "execution_count": 70,
   "id": "10d7d369",
   "metadata": {},
   "outputs": [],
   "source": [
    "conn.rollback()"
   ]
  },
  {
   "cell_type": "code",
   "execution_count": null,
   "id": "2472edd4",
   "metadata": {},
   "outputs": [],
   "source": []
  },
  {
   "cell_type": "code",
   "execution_count": null,
   "id": "28cab004",
   "metadata": {},
   "outputs": [],
   "source": []
  }
 ],
 "metadata": {
  "kernelspec": {
   "display_name": "Python 3 (ipykernel)",
   "language": "python",
   "name": "python3"
  },
  "language_info": {
   "codemirror_mode": {
    "name": "ipython",
    "version": 3
   },
   "file_extension": ".py",
   "mimetype": "text/x-python",
   "name": "python",
   "nbconvert_exporter": "python",
   "pygments_lexer": "ipython3",
   "version": "3.11.5"
  }
 },
 "nbformat": 4,
 "nbformat_minor": 5
}
